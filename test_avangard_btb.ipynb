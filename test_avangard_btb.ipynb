{
 "cells": [
  {
   "cell_type": "markdown",
   "id": "8e46fe75-f175-4df5-a8de-696b77d08f04",
   "metadata": {},
   "source": [
    "Тестовое задание на позицию “Аналитик данных”"
   ]
  },
  {
   "cell_type": "code",
   "execution_count": 1,
   "id": "dca89bd3-704d-4c0b-9b69-a0373319c46e",
   "metadata": {},
   "outputs": [],
   "source": [
    "# импортируем библиотеки\n",
    "\n",
    "import pandas as pd\n",
    "import numpy as np\n",
    "import math as mth\n",
    "\n",
    "import matplotlib.pyplot as plt\n",
    "\n",
    "from matplotlib.dates import DateFormatter\n",
    "import plotly.express as px\n",
    "from plotly import graph_objects as go\n",
    "\n",
    "import matplotlib as mpl\n",
    "import seaborn as sns\n",
    "import math\n",
    "import datetime as dt\n",
    "import scipy.stats as stats\n",
    "import datetime\n",
    "\n",
    "from scipy import stats as st"
   ]
  },
  {
   "cell_type": "code",
   "execution_count": 3,
   "id": "1730bcb0-a645-4050-916e-190a73fcec41",
   "metadata": {},
   "outputs": [],
   "source": [
    "# загружаем данные\n",
    "\n",
    "df = pd.read_csv(r'C:\\Users\\Тай-Хоо\\Downloads\\train - train.csv')"
   ]
  },
  {
   "cell_type": "code",
   "execution_count": 4,
   "id": "90198fa1-e1ca-4979-848a-cb974b116f31",
   "metadata": {},
   "outputs": [
    {
     "data": {
      "text/html": [
       "<div>\n",
       "<style scoped>\n",
       "    .dataframe tbody tr th:only-of-type {\n",
       "        vertical-align: middle;\n",
       "    }\n",
       "\n",
       "    .dataframe tbody tr th {\n",
       "        vertical-align: top;\n",
       "    }\n",
       "\n",
       "    .dataframe thead th {\n",
       "        text-align: right;\n",
       "    }\n",
       "</style>\n",
       "<table border=\"1\" class=\"dataframe\">\n",
       "  <thead>\n",
       "    <tr style=\"text-align: right;\">\n",
       "      <th></th>\n",
       "      <th>ID</th>\n",
       "      <th>Order Date</th>\n",
       "      <th>Class</th>\n",
       "      <th>Region</th>\n",
       "      <th>Sub-Category</th>\n",
       "      <th>Sales</th>\n",
       "    </tr>\n",
       "  </thead>\n",
       "  <tbody>\n",
       "    <tr>\n",
       "      <th>850</th>\n",
       "      <td>3799</td>\n",
       "      <td>04/11/2018</td>\n",
       "      <td>Первый класс</td>\n",
       "      <td>Москва</td>\n",
       "      <td>Tables</td>\n",
       "      <td>36192,81</td>\n",
       "    </tr>\n",
       "    <tr>\n",
       "      <th>6841</th>\n",
       "      <td>4490</td>\n",
       "      <td>05/09/2016</td>\n",
       "      <td>Стандарт</td>\n",
       "      <td>Урал</td>\n",
       "      <td>Binders</td>\n",
       "      <td>27270,81</td>\n",
       "    </tr>\n",
       "    <tr>\n",
       "      <th>5046</th>\n",
       "      <td>1134</td>\n",
       "      <td>05/06/2017</td>\n",
       "      <td>Стандарт</td>\n",
       "      <td>Владивосток</td>\n",
       "      <td>Storage</td>\n",
       "      <td>25798,82</td>\n",
       "    </tr>\n",
       "    <tr>\n",
       "      <th>853</th>\n",
       "      <td>8912</td>\n",
       "      <td>04/11/2018</td>\n",
       "      <td>Стандарт</td>\n",
       "      <td>Москва</td>\n",
       "      <td>Phones</td>\n",
       "      <td>5193,039</td>\n",
       "    </tr>\n",
       "    <tr>\n",
       "      <th>3188</th>\n",
       "      <td>1885</td>\n",
       "      <td>19/01/2018</td>\n",
       "      <td>Второй класс</td>\n",
       "      <td>Урал</td>\n",
       "      <td>Labels</td>\n",
       "      <td>21515,98</td>\n",
       "    </tr>\n",
       "  </tbody>\n",
       "</table>\n",
       "</div>"
      ],
      "text/plain": [
       "        ID  Order Date         Class       Region Sub-Category     Sales\n",
       "850   3799  04/11/2018  Первый класс       Москва       Tables  36192,81\n",
       "6841  4490  05/09/2016      Стандарт         Урал      Binders  27270,81\n",
       "5046  1134  05/06/2017      Стандарт  Владивосток      Storage  25798,82\n",
       "853   8912  04/11/2018      Стандарт       Москва       Phones  5193,039\n",
       "3188  1885  19/01/2018  Второй класс         Урал       Labels  21515,98"
      ]
     },
     "execution_count": 4,
     "metadata": {},
     "output_type": "execute_result"
    }
   ],
   "source": [
    "df.sample(5)"
   ]
  },
  {
   "cell_type": "code",
   "execution_count": 5,
   "id": "7555f451-bc6c-440c-83e9-db55a222d26f",
   "metadata": {},
   "outputs": [
    {
     "name": "stdout",
     "output_type": "stream",
     "text": [
      "<class 'pandas.core.frame.DataFrame'>\n",
      "RangeIndex: 9800 entries, 0 to 9799\n",
      "Data columns (total 6 columns):\n",
      " #   Column        Non-Null Count  Dtype \n",
      "---  ------        --------------  ----- \n",
      " 0   ID            9800 non-null   int64 \n",
      " 1   Order Date    9800 non-null   object\n",
      " 2   Class         9800 non-null   object\n",
      " 3   Region        9800 non-null   object\n",
      " 4   Sub-Category  9800 non-null   object\n",
      " 5   Sales         9800 non-null   object\n",
      "dtypes: int64(1), object(5)\n",
      "memory usage: 459.5+ KB\n"
     ]
    }
   ],
   "source": [
    "df.info()"
   ]
  },
  {
   "cell_type": "markdown",
   "id": "4a1afdb0-f28b-4e17-b8c8-60510a2d0260",
   "metadata": {},
   "source": [
    "Названия столбцов не по стандарту, тип данных  Order Date не datatime"
   ]
  },
  {
   "cell_type": "markdown",
   "id": "223c1ad9-855a-4ebe-ad89-35eef25b3980",
   "metadata": {},
   "source": [
    "## Предобработка данных:"
   ]
  },
  {
   "cell_type": "code",
   "execution_count": 7,
   "id": "913ceaa4-ecc2-453a-8ddf-1cc9db79fdb2",
   "metadata": {},
   "outputs": [
    {
     "name": "stdout",
     "output_type": "stream",
     "text": [
      "Количество полных дубликатов 0\n",
      "Доля полных дубликатов 0.0\n"
     ]
    }
   ],
   "source": [
    "print('Количество полных дубликатов', df.duplicated().sum())\n",
    "print('Доля полных дубликатов', df.duplicated().sum() / len(df))"
   ]
  },
  {
   "cell_type": "markdown",
   "id": "34231cb8-fb64-48a9-a97d-6d18018ddcb6",
   "metadata": {},
   "source": [
    "Исправим названия столбцов по стандарту"
   ]
  },
  {
   "cell_type": "code",
   "execution_count": 8,
   "id": "cccbbd4a-7039-44b5-8313-977d1a905017",
   "metadata": {},
   "outputs": [],
   "source": [
    "df = df.rename(columns={'ID': 'id', 'Order Date': 'order_date', \n",
    "                            'Class': 'class', 'Region': 'region',\n",
    "                        'Sub-Category':'sub_category', 'Sales':'sales'})"
   ]
  },
  {
   "cell_type": "code",
   "execution_count": 18,
   "id": "e21f49ae-fed7-43aa-97e2-62f59c71334d",
   "metadata": {},
   "outputs": [
    {
     "data": {
      "text/plain": [
       "id              0\n",
       "order_date      0\n",
       "class           0\n",
       "region          0\n",
       "sub_category    0\n",
       "sales           0\n",
       "dtype: int64"
      ]
     },
     "execution_count": 18,
     "metadata": {},
     "output_type": "execute_result"
    }
   ],
   "source": [
    "df.isna().sum()"
   ]
  },
  {
   "cell_type": "markdown",
   "id": "cb05eb10-edf7-4535-a1e2-6fbfb6303f45",
   "metadata": {},
   "source": [
    "Изменим тип данных order_date на datatime"
   ]
  },
  {
   "cell_type": "code",
   "execution_count": 13,
   "id": "7c7bc2f7-e5a4-4532-ba84-82391807f8c8",
   "metadata": {},
   "outputs": [],
   "source": [
    "df['order_date'] = pd.to_datetime(df['order_date'])"
   ]
  },
  {
   "cell_type": "code",
   "execution_count": 22,
   "id": "0a06156d-6361-4cd6-b185-fe6ff50ed678",
   "metadata": {},
   "outputs": [
    {
     "data": {
      "text/html": [
       "<div>\n",
       "<style scoped>\n",
       "    .dataframe tbody tr th:only-of-type {\n",
       "        vertical-align: middle;\n",
       "    }\n",
       "\n",
       "    .dataframe tbody tr th {\n",
       "        vertical-align: top;\n",
       "    }\n",
       "\n",
       "    .dataframe thead th {\n",
       "        text-align: right;\n",
       "    }\n",
       "</style>\n",
       "<table border=\"1\" class=\"dataframe\">\n",
       "  <thead>\n",
       "    <tr style=\"text-align: right;\">\n",
       "      <th></th>\n",
       "      <th>id</th>\n",
       "      <th>order_date</th>\n",
       "      <th>class</th>\n",
       "      <th>region</th>\n",
       "      <th>sub_category</th>\n",
       "      <th>sales</th>\n",
       "    </tr>\n",
       "  </thead>\n",
       "  <tbody>\n",
       "    <tr>\n",
       "      <th>0</th>\n",
       "      <td>646</td>\n",
       "      <td>2018-12-30</td>\n",
       "      <td>Стандарт</td>\n",
       "      <td>Урал</td>\n",
       "      <td>Appliances</td>\n",
       "      <td>37229.08</td>\n",
       "    </tr>\n",
       "    <tr>\n",
       "      <th>1</th>\n",
       "      <td>907</td>\n",
       "      <td>2018-12-30</td>\n",
       "      <td>Стандарт</td>\n",
       "      <td>Владивосток</td>\n",
       "      <td>Bookcases</td>\n",
       "      <td>20994.61</td>\n",
       "    </tr>\n",
       "    <tr>\n",
       "      <th>2</th>\n",
       "      <td>908</td>\n",
       "      <td>2018-12-30</td>\n",
       "      <td>Стандарт</td>\n",
       "      <td>Владивосток</td>\n",
       "      <td>Phones</td>\n",
       "      <td>42133.86</td>\n",
       "    </tr>\n",
       "    <tr>\n",
       "      <th>3</th>\n",
       "      <td>909</td>\n",
       "      <td>2018-12-30</td>\n",
       "      <td>Стандарт</td>\n",
       "      <td>Владивосток</td>\n",
       "      <td>Binders</td>\n",
       "      <td>10612.00</td>\n",
       "    </tr>\n",
       "    <tr>\n",
       "      <th>4</th>\n",
       "      <td>1297</td>\n",
       "      <td>2018-12-30</td>\n",
       "      <td>Стандарт</td>\n",
       "      <td>Калиниград</td>\n",
       "      <td>Binders</td>\n",
       "      <td>28781.13</td>\n",
       "    </tr>\n",
       "  </tbody>\n",
       "</table>\n",
       "</div>"
      ],
      "text/plain": [
       "     id order_date     class       region sub_category     sales\n",
       "0   646 2018-12-30  Стандарт         Урал   Appliances  37229.08\n",
       "1   907 2018-12-30  Стандарт  Владивосток    Bookcases  20994.61\n",
       "2   908 2018-12-30  Стандарт  Владивосток       Phones  42133.86\n",
       "3   909 2018-12-30  Стандарт  Владивосток      Binders  10612.00\n",
       "4  1297 2018-12-30  Стандарт   Калиниград      Binders  28781.13"
      ]
     },
     "execution_count": 22,
     "metadata": {},
     "output_type": "execute_result"
    }
   ],
   "source": [
    "df.head(5)"
   ]
  },
  {
   "cell_type": "code",
   "execution_count": 20,
   "id": "ef73a44b-b206-4158-a283-43c1f9e8e7f0",
   "metadata": {},
   "outputs": [],
   "source": [
    "# Заменим запятые на точки в столбце sales и преобразуем в float\n",
    "df['sales'] = df['sales'].str.replace(',', '.').astype(float)"
   ]
  },
  {
   "cell_type": "code",
   "execution_count": 21,
   "id": "2992b2d8-5a3c-4999-9838-5369400931a2",
   "metadata": {},
   "outputs": [
    {
     "name": "stdout",
     "output_type": "stream",
     "text": [
      "<class 'pandas.core.frame.DataFrame'>\n",
      "RangeIndex: 9800 entries, 0 to 9799\n",
      "Data columns (total 6 columns):\n",
      " #   Column        Non-Null Count  Dtype         \n",
      "---  ------        --------------  -----         \n",
      " 0   id            9800 non-null   int64         \n",
      " 1   order_date    9800 non-null   datetime64[ns]\n",
      " 2   class         9800 non-null   object        \n",
      " 3   region        9800 non-null   object        \n",
      " 4   sub_category  9800 non-null   object        \n",
      " 5   sales         9800 non-null   float64       \n",
      "dtypes: datetime64[ns](1), float64(1), int64(1), object(3)\n",
      "memory usage: 459.5+ KB\n"
     ]
    },
    {
     "data": {
      "text/html": [
       "<div>\n",
       "<style scoped>\n",
       "    .dataframe tbody tr th:only-of-type {\n",
       "        vertical-align: middle;\n",
       "    }\n",
       "\n",
       "    .dataframe tbody tr th {\n",
       "        vertical-align: top;\n",
       "    }\n",
       "\n",
       "    .dataframe thead th {\n",
       "        text-align: right;\n",
       "    }\n",
       "</style>\n",
       "<table border=\"1\" class=\"dataframe\">\n",
       "  <thead>\n",
       "    <tr style=\"text-align: right;\">\n",
       "      <th></th>\n",
       "      <th>id</th>\n",
       "      <th>order_date</th>\n",
       "      <th>class</th>\n",
       "      <th>region</th>\n",
       "      <th>sub_category</th>\n",
       "      <th>sales</th>\n",
       "    </tr>\n",
       "  </thead>\n",
       "  <tbody>\n",
       "    <tr>\n",
       "      <th>9019</th>\n",
       "      <td>9779</td>\n",
       "      <td>2015-07-26</td>\n",
       "      <td>Стандарт</td>\n",
       "      <td>Урал</td>\n",
       "      <td>Binders</td>\n",
       "      <td>11200.29</td>\n",
       "    </tr>\n",
       "  </tbody>\n",
       "</table>\n",
       "</div>"
      ],
      "text/plain": [
       "        id order_date     class region sub_category     sales\n",
       "9019  9779 2015-07-26  Стандарт   Урал      Binders  11200.29"
      ]
     },
     "execution_count": 21,
     "metadata": {},
     "output_type": "execute_result"
    }
   ],
   "source": [
    "df.info()\n",
    "df.sample()"
   ]
  },
  {
   "cell_type": "markdown",
   "id": "d9c253ef-9da7-4188-9792-5d9ddf7d86fd",
   "metadata": {},
   "source": [
    "**Вывод:**\n",
    "Мы отредактировали названия столбцов, изменили формат даты. А также формат в колонке sales. В данных нет дубликатов, можно начинать анализ данных"
   ]
  },
  {
   "cell_type": "markdown",
   "id": "070691bd-95a5-4165-ba31-52c9dfe1de66",
   "metadata": {},
   "source": [
    "## Задание 1\n",
    "\n",
    "     а) Какие подгруппы товаров наиболее часто покупают за все время продаж (минимум 4 группы)?\n",
    "     б) Какие подгруппы товаров наиболее часто покупают за последние два года (минимум 4 группы)?\n",
    "     в) Какие подгруппы товаров наиболее часто покупают за последний год(минимум 4 группы)?\n",
    "\n",
    " Подгруппа – sub_category\n",
    " \n",
    " Дата – order_date"
   ]
  },
  {
   "cell_type": "code",
   "execution_count": 25,
   "id": "42f8a018-e4f0-4553-99f5-b7324771cf76",
   "metadata": {},
   "outputs": [
    {
     "data": {
      "text/plain": [
       "count                             9800\n",
       "mean     2017-05-01 05:13:51.673469184\n",
       "min                2015-01-03 00:00:00\n",
       "25%                2016-05-24 00:00:00\n",
       "50%                2017-06-26 00:00:00\n",
       "75%                2018-05-15 00:00:00\n",
       "max                2018-12-30 00:00:00\n",
       "Name: order_date, dtype: object"
      ]
     },
     "execution_count": 25,
     "metadata": {},
     "output_type": "execute_result"
    }
   ],
   "source": [
    "df['order_date'].describe()"
   ]
  },
  {
   "cell_type": "code",
   "execution_count": 26,
   "id": "dad7a754-123a-4e16-9cb1-ae35f71be97c",
   "metadata": {},
   "outputs": [],
   "source": [
    "# Установим временные рамки\n",
    "start_date = pd.Timestamp('2017-01-01')\n",
    "end_date = pd.Timestamp('2018-12-31')"
   ]
  },
  {
   "cell_type": "code",
   "execution_count": 27,
   "id": "68450f6a-0f2c-4eb9-aa20-d7f7480cddef",
   "metadata": {},
   "outputs": [
    {
     "name": "stdout",
     "output_type": "stream",
     "text": [
      "Наиболее часто покупаемые подгруппы товаров за все время:\n",
      "sub_category\n",
      "Binders        1492\n",
      "Paper          1338\n",
      "Furnishings     931\n",
      "Phones          876\n",
      "Name: count, dtype: int64\n"
     ]
    }
   ],
   "source": [
    "# а) Наиболее часто покупаемые подгруппы товаров за все время\n",
    "all_time_counts = df['sub_category'].value_counts().head(4)\n",
    "print(\"Наиболее часто покупаемые подгруппы товаров за все время:\")\n",
    "print(all_time_counts)"
   ]
  },
  {
   "cell_type": "code",
   "execution_count": 28,
   "id": "c4d1bbca-8c4d-4f7f-acd9-1b3b4f1916e4",
   "metadata": {},
   "outputs": [
    {
     "name": "stdout",
     "output_type": "stream",
     "text": [
      "\n",
      "Наиболее часто покупаемые подгруппы товаров за последние два года (2017-2018):\n",
      "sub_category\n",
      "Binders        900\n",
      "Paper          809\n",
      "Furnishings    557\n",
      "Phones         510\n",
      "Name: count, dtype: int64\n"
     ]
    }
   ],
   "source": [
    "# б) Наиболее часто покупаемые подгруппы товаров за последние два года (2017 и 2018)\n",
    "recent_two_years_counts = df[(df['order_date'] >= start_date) & (df['order_date'] <= end_date)]['sub_category'].value_counts().head(4)\n",
    "print(\"\\nНаиболее часто покупаемые подгруппы товаров за последние два года (2017-2018):\")\n",
    "print(recent_two_years_counts)"
   ]
  },
  {
   "cell_type": "code",
   "execution_count": 29,
   "id": "69e9e039-a5f2-4595-b7ad-457949ef479f",
   "metadata": {},
   "outputs": [
    {
     "name": "stdout",
     "output_type": "stream",
     "text": [
      "\n",
      "Наиболее часто покупаемые подгруппы товаров за последний год (2018):\n",
      "sub_category\n",
      "Binders        492\n",
      "Paper          452\n",
      "Furnishings    310\n",
      "Phones         290\n",
      "Name: count, dtype: int64\n"
     ]
    }
   ],
   "source": [
    "# в) Наиболее часто покупаемые подгруппы товаров за последний год (2018)\n",
    "one_year_ago = pd.Timestamp('2018-01-01')\n",
    "recent_one_year_counts = df[df['order_date'] >= one_year_ago]['sub_category'].value_counts().head(4)\n",
    "print(\"\\nНаиболее часто покупаемые подгруппы товаров за последний год (2018):\")\n",
    "print(recent_one_year_counts)"
   ]
  },
  {
   "cell_type": "markdown",
   "id": "afd66583-63a5-4a99-bd9a-77241d6a9164",
   "metadata": {},
   "source": [
    "## Вывод: Подгруппы товаров, которые наиболее часто покупались, остаются стабильными на протяжении времени а именно:\n",
    "1. Binders\n",
    "2. Paper\n",
    "3. \r\n",
    "Furnishin\n",
    "4. 0\r\n",
    "Pho\n",
    "  290"
   ]
  },
  {
   "cell_type": "markdown",
   "id": "10003e15-5431-4f61-aa76-b3db5f0e9e3c",
   "metadata": {},
   "source": [
    " ## Задание 2\n",
    " Построить boxplot («Ящик с усами») на основе продаж (Sales). \n",
    " \n",
    " Найти мажоритарную черту (т.е. избавиться от аномалий и представить четкую картину распределения величин).\n",
    " \n",
    " Можно использовать правило трех сигм. Однако любые другие решения приветствуются."
   ]
  },
  {
   "cell_type": "code",
   "execution_count": 33,
   "id": "e8286057-f153-4235-99d6-37871010c65b",
   "metadata": {},
   "outputs": [],
   "source": [
    "# Метод: Межквартильный диапазон (IQR)\n",
    "Q1 = df['sales'].quantile(0.25)\n",
    "Q3 = df['sales'].quantile(0.75)\n",
    "IQR = Q3 - Q1"
   ]
  },
  {
   "cell_type": "code",
   "execution_count": 34,
   "id": "e253a913-da91-4eac-b69c-cffa00e6ff74",
   "metadata": {},
   "outputs": [],
   "source": [
    "# Убираем выбросы\n",
    "filtered_data = df[(df['sales'] >= Q1 - 1.5 * IQR) & (df['sales'] <= Q3 + 1.5 * IQR)]"
   ]
  },
  {
   "cell_type": "code",
   "execution_count": 36,
   "id": "a321a984-5c27-4e16-8249-0f23b756bf1a",
   "metadata": {},
   "outputs": [
    {
     "data": {
      "image/png": "[encoded data removed]",
      "text/plain": [
       "<Figure size 1400x600 with 2 Axes>"
      ]
     },
     "metadata": {},
     "output_type": "display_data"
    }
   ],
   "source": [
    "# Построим boxplot для оригинальных данных и очищенных данных\n",
    "plt.figure(figsize=(14, 6))\n",
    "\n",
    "plt.subplot(1, 2, 1)\n",
    "sns.boxplot(x=df['sales'])\n",
    "plt.title('Boxplot: Оригинальные данные')\n",
    "\n",
    "plt.subplot(1, 2, 2)\n",
    "sns.boxplot(x=filtered_data['sales'])\n",
    "plt.title('Boxplot: Данные без выбросов (IQR)')\n",
    "\n",
    "plt.tight_layout()\n",
    "plt.show()"
   ]
  },
  {
   "cell_type": "code",
   "execution_count": 37,
   "id": "5a0320c0-02f6-4e14-ab5b-659454334b10",
   "metadata": {},
   "outputs": [
    {
     "name": "stdout",
     "output_type": "stream",
     "text": [
      "Количество выбросов по методу IQR: 0\n"
     ]
    }
   ],
   "source": [
    "# Выводим количество выбросов по методу IQR\n",
    "original_outliers_count = df.shape[0] - filtered_data.shape[0]\n",
    "print(f\"Количество выбросов по методу IQR: {original_outliers_count}\")"
   ]
  },
  {
   "cell_type": "markdown",
   "id": "ba950d79-1d46-42b9-9d6d-88c3fa08fba4",
   "metadata": {},
   "source": [
    "## Задание 3\n",
    "Для этого задания необходимо разбить все покупки на энное количество групп “Sale_group” (Допустим маленькие продажи, средние и высокие) на основе Sales\n",
    "\n",
    "Сгруппировать данные на основе региона и группы продаж (Region, Sale_group). \n",
    "\n",
    "Определить основные тенденции и паттерны. Выделить наиболее «прибыльную» группу."
   ]
  },
  {
   "cell_type": "code",
   "execution_count": 38,
   "id": "46f9af32-881c-4f83-be73-b52dc1d7a554",
   "metadata": {},
   "outputs": [
    {
     "data": {
      "text/html": [
       "<div>\n",
       "<style scoped>\n",
       "    .dataframe tbody tr th:only-of-type {\n",
       "        vertical-align: middle;\n",
       "    }\n",
       "\n",
       "    .dataframe tbody tr th {\n",
       "        vertical-align: top;\n",
       "    }\n",
       "\n",
       "    .dataframe thead th {\n",
       "        text-align: right;\n",
       "    }\n",
       "</style>\n",
       "<table border=\"1\" class=\"dataframe\">\n",
       "  <thead>\n",
       "    <tr style=\"text-align: right;\">\n",
       "      <th></th>\n",
       "      <th>id</th>\n",
       "      <th>order_date</th>\n",
       "      <th>class</th>\n",
       "      <th>region</th>\n",
       "      <th>sub_category</th>\n",
       "      <th>sales</th>\n",
       "    </tr>\n",
       "  </thead>\n",
       "  <tbody>\n",
       "    <tr>\n",
       "      <th>0</th>\n",
       "      <td>646</td>\n",
       "      <td>2018-12-30</td>\n",
       "      <td>Стандарт</td>\n",
       "      <td>Урал</td>\n",
       "      <td>Appliances</td>\n",
       "      <td>37229.08</td>\n",
       "    </tr>\n",
       "    <tr>\n",
       "      <th>1</th>\n",
       "      <td>907</td>\n",
       "      <td>2018-12-30</td>\n",
       "      <td>Стандарт</td>\n",
       "      <td>Владивосток</td>\n",
       "      <td>Bookcases</td>\n",
       "      <td>20994.61</td>\n",
       "    </tr>\n",
       "    <tr>\n",
       "      <th>2</th>\n",
       "      <td>908</td>\n",
       "      <td>2018-12-30</td>\n",
       "      <td>Стандарт</td>\n",
       "      <td>Владивосток</td>\n",
       "      <td>Phones</td>\n",
       "      <td>42133.86</td>\n",
       "    </tr>\n",
       "    <tr>\n",
       "      <th>3</th>\n",
       "      <td>909</td>\n",
       "      <td>2018-12-30</td>\n",
       "      <td>Стандарт</td>\n",
       "      <td>Владивосток</td>\n",
       "      <td>Binders</td>\n",
       "      <td>10612.00</td>\n",
       "    </tr>\n",
       "    <tr>\n",
       "      <th>4</th>\n",
       "      <td>1297</td>\n",
       "      <td>2018-12-30</td>\n",
       "      <td>Стандарт</td>\n",
       "      <td>Калиниград</td>\n",
       "      <td>Binders</td>\n",
       "      <td>28781.13</td>\n",
       "    </tr>\n",
       "  </tbody>\n",
       "</table>\n",
       "</div>"
      ],
      "text/plain": [
       "     id order_date     class       region sub_category     sales\n",
       "0   646 2018-12-30  Стандарт         Урал   Appliances  37229.08\n",
       "1   907 2018-12-30  Стандарт  Владивосток    Bookcases  20994.61\n",
       "2   908 2018-12-30  Стандарт  Владивосток       Phones  42133.86\n",
       "3   909 2018-12-30  Стандарт  Владивосток      Binders  10612.00\n",
       "4  1297 2018-12-30  Стандарт   Калиниград      Binders  28781.13"
      ]
     },
     "execution_count": 38,
     "metadata": {},
     "output_type": "execute_result"
    }
   ],
   "source": [
    "df.head()"
   ]
  },
  {
   "cell_type": "code",
   "execution_count": 50,
   "id": "45e24c21-ba5a-4547-9216-9a689347d280",
   "metadata": {},
   "outputs": [
    {
     "data": {
      "text/plain": [
       "array(['Урал', 'Владивосток', 'Калиниград', 'Москва'], dtype=object)"
      ]
     },
     "execution_count": 50,
     "metadata": {},
     "output_type": "execute_result"
    }
   ],
   "source": [
    "df['region'].unique()"
   ]
  },
  {
   "cell_type": "code",
   "execution_count": 39,
   "id": "e89ed85a-612a-47a8-a9c1-8865ddc3df42",
   "metadata": {},
   "outputs": [
    {
     "data": {
      "text/plain": [
       "count     9800.000000\n",
       "mean     22921.757737\n",
       "std      12601.999815\n",
       "min       1002.794000\n",
       "25%      12135.625000\n",
       "50%      22882.060000\n",
       "75%      33730.130000\n",
       "max      44995.410000\n",
       "Name: sales, dtype: float64"
      ]
     },
     "execution_count": 39,
     "metadata": {},
     "output_type": "execute_result"
    }
   ],
   "source": [
    "df['sales'].describe()"
   ]
  },
  {
   "cell_type": "markdown",
   "id": "3038bfb6-709d-401c-bef1-eccbe240c11c",
   "metadata": {},
   "source": [
    "На основе данных можно выделить три группы:\n",
    "\n",
    "- Маленькие продажи: ниже 25-го процентиля (до 12135.63)\n",
    "- Средние продажи: от 25-го до 75-го процентиля (от 12135.63 до 33730.13)\n",
    "- Высокие продажи: выше 75-го процентиля (выше 33730.13)"
   ]
  },
  {
   "cell_type": "markdown",
   "id": "b942f655-60eb-429d-9796-4f03fa1842f9",
   "metadata": {},
   "source": [
    "### Присвоение групп продаж создание df['sale_group']"
   ]
  },
  {
   "cell_type": "code",
   "execution_count": 41,
   "id": "38841387-af75-41a3-b22b-e745ffc52aea",
   "metadata": {},
   "outputs": [],
   "source": [
    "def categorize_sales(sales):\n",
    "    if sales < 12135.63:\n",
    "        return 'Маленькие продажи'\n",
    "    elif sales < 33730.13:\n",
    "        return 'Средние продажи'\n",
    "    else:\n",
    "        return 'Высокие продажи'\n",
    "\n",
    "df['sale_group'] = df['sales'].apply(categorize_sales)"
   ]
  },
  {
   "cell_type": "markdown",
   "id": "30aa5046-fdeb-42fa-bb82-e63c6126f083",
   "metadata": {},
   "source": [
    "### Группировка данных\r\n",
    "\r\n",
    "Теперь сгруппиемте данные по регионам и группам продаж:"
   ]
  },
  {
   "cell_type": "code",
   "execution_count": 45,
   "id": "e5c39e98-5971-4fa0-a3fc-b3544846630c",
   "metadata": {},
   "outputs": [
    {
     "data": {
      "text/html": [
       "<div>\n",
       "<style scoped>\n",
       "    .dataframe tbody tr th:only-of-type {\n",
       "        vertical-align: middle;\n",
       "    }\n",
       "\n",
       "    .dataframe tbody tr th {\n",
       "        vertical-align: top;\n",
       "    }\n",
       "\n",
       "    .dataframe thead tr th {\n",
       "        text-align: left;\n",
       "    }\n",
       "</style>\n",
       "<table border=\"1\" class=\"dataframe\">\n",
       "  <thead>\n",
       "    <tr>\n",
       "      <th></th>\n",
       "      <th>region</th>\n",
       "      <th>sale_group</th>\n",
       "      <th colspan=\"3\" halign=\"left\">sales</th>\n",
       "    </tr>\n",
       "    <tr>\n",
       "      <th></th>\n",
       "      <th></th>\n",
       "      <th></th>\n",
       "      <th>count</th>\n",
       "      <th>sum</th>\n",
       "      <th>mean</th>\n",
       "    </tr>\n",
       "  </thead>\n",
       "  <tbody>\n",
       "    <tr>\n",
       "      <th>0</th>\n",
       "      <td>Владивосток</td>\n",
       "      <td>Высокие продажи</td>\n",
       "      <td>718</td>\n",
       "      <td>2.823214e+07</td>\n",
       "      <td>39320.533162</td>\n",
       "    </tr>\n",
       "    <tr>\n",
       "      <th>1</th>\n",
       "      <td>Владивосток</td>\n",
       "      <td>Маленькие продажи</td>\n",
       "      <td>715</td>\n",
       "      <td>4.642905e+06</td>\n",
       "      <td>6493.573587</td>\n",
       "    </tr>\n",
       "    <tr>\n",
       "      <th>2</th>\n",
       "      <td>Владивосток</td>\n",
       "      <td>Средние продажи</td>\n",
       "      <td>1352</td>\n",
       "      <td>3.107764e+07</td>\n",
       "      <td>22986.419349</td>\n",
       "    </tr>\n",
       "    <tr>\n",
       "      <th>3</th>\n",
       "      <td>Калиниград</td>\n",
       "      <td>Высокие продажи</td>\n",
       "      <td>756</td>\n",
       "      <td>2.981133e+07</td>\n",
       "      <td>39432.981997</td>\n",
       "    </tr>\n",
       "    <tr>\n",
       "      <th>4</th>\n",
       "      <td>Калиниград</td>\n",
       "      <td>Маленькие продажи</td>\n",
       "      <td>763</td>\n",
       "      <td>5.069059e+06</td>\n",
       "      <td>6643.589742</td>\n",
       "    </tr>\n",
       "    <tr>\n",
       "      <th>5</th>\n",
       "      <td>Калиниград</td>\n",
       "      <td>Средние продажи</td>\n",
       "      <td>1621</td>\n",
       "      <td>3.704991e+07</td>\n",
       "      <td>22856.203800</td>\n",
       "    </tr>\n",
       "    <tr>\n",
       "      <th>6</th>\n",
       "      <td>Москва</td>\n",
       "      <td>Высокие продажи</td>\n",
       "      <td>417</td>\n",
       "      <td>1.633080e+07</td>\n",
       "      <td>39162.600288</td>\n",
       "    </tr>\n",
       "    <tr>\n",
       "      <th>7</th>\n",
       "      <td>Москва</td>\n",
       "      <td>Маленькие продажи</td>\n",
       "      <td>392</td>\n",
       "      <td>2.528322e+06</td>\n",
       "      <td>6449.800673</td>\n",
       "    </tr>\n",
       "    <tr>\n",
       "      <th>8</th>\n",
       "      <td>Москва</td>\n",
       "      <td>Средние продажи</td>\n",
       "      <td>789</td>\n",
       "      <td>1.803253e+07</td>\n",
       "      <td>22854.911698</td>\n",
       "    </tr>\n",
       "    <tr>\n",
       "      <th>9</th>\n",
       "      <td>Урал</td>\n",
       "      <td>Высокие продажи</td>\n",
       "      <td>559</td>\n",
       "      <td>2.194230e+07</td>\n",
       "      <td>39252.768730</td>\n",
       "    </tr>\n",
       "    <tr>\n",
       "      <th>10</th>\n",
       "      <td>Урал</td>\n",
       "      <td>Маленькие продажи</td>\n",
       "      <td>580</td>\n",
       "      <td>3.849450e+06</td>\n",
       "      <td>6636.983200</td>\n",
       "    </tr>\n",
       "    <tr>\n",
       "      <th>11</th>\n",
       "      <td>Урал</td>\n",
       "      <td>Средние продажи</td>\n",
       "      <td>1138</td>\n",
       "      <td>2.606684e+07</td>\n",
       "      <td>22905.834552</td>\n",
       "    </tr>\n",
       "  </tbody>\n",
       "</table>\n",
       "</div>"
      ],
      "text/plain": [
       "         region         sale_group sales                            \n",
       "                                   count           sum          mean\n",
       "0   Владивосток    Высокие продажи   718  2.823214e+07  39320.533162\n",
       "1   Владивосток  Маленькие продажи   715  4.642905e+06   6493.573587\n",
       "2   Владивосток    Средние продажи  1352  3.107764e+07  22986.419349\n",
       "3    Калиниград    Высокие продажи   756  2.981133e+07  39432.981997\n",
       "4    Калиниград  Маленькие продажи   763  5.069059e+06   6643.589742\n",
       "5    Калиниград    Средние продажи  1621  3.704991e+07  22856.203800\n",
       "6        Москва    Высокие продажи   417  1.633080e+07  39162.600288\n",
       "7        Москва  Маленькие продажи   392  2.528322e+06   6449.800673\n",
       "8        Москва    Средние продажи   789  1.803253e+07  22854.911698\n",
       "9          Урал    Высокие продажи   559  2.194230e+07  39252.768730\n",
       "10         Урал  Маленькие продажи   580  3.849450e+06   6636.983200\n",
       "11         Урал    Средние продажи  1138  2.606684e+07  22905.834552"
      ]
     },
     "execution_count": 45,
     "metadata": {},
     "output_type": "execute_result"
    }
   ],
   "source": [
    "grouped_data = df.groupby(['region', 'sale_group']).agg({'sales': ['count', 'sum', 'mean']}).reset_index()\n",
    "grouped_data"
   ]
  },
  {
   "cell_type": "markdown",
   "id": "be5dd62d-c0d6-4f5f-8162-d9d89ef7f31c",
   "metadata": {},
   "source": [
    "## Для того чтобы найти наиболее прибыльную группу, используем агрегированные данные:"
   ]
  },
  {
   "cell_type": "code",
   "execution_count": 46,
   "id": "80a03f17-a862-4dfa-a3fa-cf8b537aa7a6",
   "metadata": {},
   "outputs": [
    {
     "data": {
      "text/plain": [
       "region                    Калиниград\n",
       "sale_group           Средние продажи\n",
       "sales       count               1621\n",
       "            sum          37049906.36\n",
       "            mean          22856.2038\n",
       "Name: 5, dtype: object"
      ]
     },
     "execution_count": 46,
     "metadata": {},
     "output_type": "execute_result"
    }
   ],
   "source": [
    "most_profitable_group = grouped_data.loc[grouped_data['sales']['sum'].idxmax()]\n",
    "most_profitable_group"
   ]
  },
  {
   "cell_type": "markdown",
   "id": "3c183f68-ab0d-4d66-8eb9-d6ab10dc1c22",
   "metadata": {},
   "source": [
    "Для лучшего понимания результатов построим график:"
   ]
  },
  {
   "cell_type": "code",
   "execution_count": 47,
   "id": "13501621-106e-4da7-9319-d95c6bcbe9ba",
   "metadata": {},
   "outputs": [
    {
     "data": {
      "image/png": "[encoded data removed]",
      "text/plain": [
       "<Figure size 1200x600 with 1 Axes>"
      ]
     },
     "metadata": {},
     "output_type": "display_data"
    }
   ],
   "source": [
    "plt.figure(figsize=(12, 6))\n",
    "sns.barplot(data=grouped_data, x='sale_group', y=('sales', 'sum'), hue='region')\n",
    "plt.title('Общая сумма продаж по группам и регионам')\n",
    "plt.show()"
   ]
  },
  {
   "cell_type": "markdown",
   "id": "29180510-ad7d-4cac-9249-8dd3f4a37131",
   "metadata": {},
   "source": [
    "## Вывод:\n",
    "▎1. Общее количество продаж\r\n",
    "- Владивосток и Калининград имеют наибольшее количество продаж в каждой группе, особенно в высоких и средних продажах.\r\n",
    "- Москва и Урал также показывают значительные объемы, но количество продаж в высоких группах несколько ниже по сравнению с Владивостоком и Калининградом.\r\n",
    "\r\n",
    "▎2. Сумма продаж\r\n",
    "- Калининград имеет наибольшую общую сумму высоких продаж (29.81 млн), что указывает на его сильное положение в этой категории.\r\n",
    "- Владивосток и Урал также имеют высокие суммы, но чуть ниже, чем у Калининграда.\r\n",
    "- Средние продажи по всем регионам показывают схожие результаты, с небольшими вариациями.\r\n",
    "\r\n",
    "▎3. Средняя величина продаж\r\n",
    "- В Калининграде средний размер высоких продаж (39,432) немного превышает аналогичные показатели в других регионах, что может указывать на более высокую покупательскую способность или более дорогие товары.\r\n",
    "- Владивосток и Урал показывают схожие значения средних продаж в высоких группах, однако их средние продажи в маленькой группе ниже (6493 и 6636 соответственно).\r\n",
    "- В среднем, маленькие продажи по всем регионам значительно ниже, чем средние и высокие продажи.\r\n",
    "\r\n",
    "▎4. Сравнение групп\r\n",
    "- Все регионы показывают тенденцию к тому, что количество высоких продаж меньше, чем количество средних и маленьких. Это может указывать на то, что высокий уровень продаж не так распространен среди клиентов.\r\n",
    "- Средние продажи составляют основную массу во всех регионах, что может говорить о том, что большинство клиентов выбирают товары средней ценовой категории.\r\n",
    "\r\n",
    "▎5. Региональные различия\r\n",
    "- Калининград выделяется как наиболее прибыльный регион с высокой суммой продаж и высокой средней величиной в группе высоких продаж.\r\n",
    "- Москва демонстрирует относительно низкие объемы высоких продаж по сравнению с другими регионами, хотя средние и маленькие продажи остаются стабильными.\r\n",
    "\r\n",
    "▎Заключение\r\n",
    "В целом, данные показывают, что высокие продажи являются меньшинством среди всех групп, но при этом они приносят значительную сумму. Калининград выделяется как наиболее успешный регион по высоким продажам. Владивосток и Урал имеют схожие показатели, но с некоторыми различиями в количестве и суммах продаж. Эти тенденции могут помочь в разработке стратегий для увеличения объемов высоких продаж в других регионах."
   ]
  },
  {
   "cell_type": "code",
   "execution_count": null,
   "id": "06662c67-fed8-4362-a8dd-ae1b3a352f84",
   "metadata": {},
   "outputs": [],
   "source": []
  }
 ],
 "metadata": {
  "kernelspec": {
   "display_name": "Python 3 (ipykernel)",
   "language": "python",
   "name": "python3"
  },
  "language_info": {
   "codemirror_mode": {
    "name": "ipython",
    "version": 3
   },
   "file_extension": ".py",
   "mimetype": "text/x-python",
   "name": "python",
   "nbconvert_exporter": "python",
   "pygments_lexer": "ipython3",
   "version": "3.11.7"
  }
 },
 "nbformat": 4,
 "nbformat_minor": 5
}
